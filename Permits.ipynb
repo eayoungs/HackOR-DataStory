{
 "metadata": {
  "name": "",
  "signature": "sha256:dd2c2ce43845b26f55f68a3e17a9ea43dfad28d53a3c03cf7e61b704195febb0"
 },
 "nbformat": 3,
 "nbformat_minor": 0,
 "worksheets": [
  {
   "cells": [
    {
     "cell_type": "code",
     "collapsed": false,
     "input": [
      "import csv\n",
      "import pandas as pd\n",
      "import pprint as pp\n",
      "\n",
      "with open('permits.csv') as csvfile:\n",
      "    i=0\n",
      "    reader = csv.DictReader(csvfile)\n",
      "    for row in reader:\n",
      "        PermitCase = {row['Permit Case Number']: row for row in reader}"
     ],
     "language": "python",
     "metadata": {},
     "outputs": [],
     "prompt_number": 29
    },
    {
     "cell_type": "code",
     "collapsed": false,
     "input": [
      "pp.pprint(PermitCase['2015-140759-000-00-NV'])"
     ],
     "language": "python",
     "metadata": {},
     "outputs": [
      {
       "output_type": "stream",
       "stream": "stdout",
       "text": [
        "{' Activities': 'Application Intake - NV',\n",
        " ' Activity Status': 'Complete',\n",
        " ' Activity Type': 'Intake',\n",
        " ' Case Address': '1505 NE ALBERTA ST PORTLAND',\n",
        " ' Completed': '2015-03-26 16:40:19',\n",
        " ' Final Date': '',\n",
        " ' Issue Date': '',\n",
        " ' Last Activity': '2015-03-26 16:40:19',\n",
        " ' Latest Activity': '2015-03-26 16:40:19',\n",
        " ' Must Check': 'Y',\n",
        " ' Permit Case Type': 'Noise Variance,   Other Applications,   Concert',\n",
        " ' Status': 'Under Review',\n",
        " ' Work Case Description': 'CONCERT',\n",
        " 'Permit Case Number': '2015-140759-000-00-NV'}\n"
       ]
      }
     ],
     "prompt_number": 30
    }
   ],
   "metadata": {}
  }
 ]
}